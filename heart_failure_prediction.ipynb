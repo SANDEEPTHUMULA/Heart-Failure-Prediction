{
 "cells": [
  {
   "cell_type": "code",
   "execution_count": 2,
   "metadata": {},
   "outputs": [],
   "source": [
    "#importing standard libraries\n",
    "import numpy as np\n",
    "import matplotlib.pyplot as plt\n",
    "import pandas as pd\n",
    "import datetime as dt\n",
    "%matplotlib inline"
   ]
  },
  {
   "cell_type": "code",
   "execution_count": 3,
   "metadata": {},
   "outputs": [],
   "source": [
    "#importing dataset\n",
    "df= pd.read_csv(\"heart_failure_clinical_records_dataset.csv\")"
   ]
  },
  {
   "cell_type": "code",
   "execution_count": 4,
   "metadata": {},
   "outputs": [],
   "source": [
    "import matplotlib.pyplot as plt\n",
    "import seaborn as sns"
   ]
  },
  {
   "cell_type": "code",
   "execution_count": 5,
   "metadata": {},
   "outputs": [
    {
     "data": {
      "text/html": [
       "<div>\n",
       "<style scoped>\n",
       "    .dataframe tbody tr th:only-of-type {\n",
       "        vertical-align: middle;\n",
       "    }\n",
       "\n",
       "    .dataframe tbody tr th {\n",
       "        vertical-align: top;\n",
       "    }\n",
       "\n",
       "    .dataframe thead th {\n",
       "        text-align: right;\n",
       "    }\n",
       "</style>\n",
       "<table border=\"1\" class=\"dataframe\">\n",
       "  <thead>\n",
       "    <tr style=\"text-align: right;\">\n",
       "      <th></th>\n",
       "      <th>Age</th>\n",
       "      <th>Anaemia</th>\n",
       "      <th>Creatinine_Phosphokinase</th>\n",
       "      <th>Diabetes</th>\n",
       "      <th>Ejection_Fraction</th>\n",
       "      <th>High_Blood_Pressure</th>\n",
       "      <th>Platelets</th>\n",
       "      <th>Serum_Creatinine</th>\n",
       "      <th>Serum_Sodium</th>\n",
       "      <th>Sex</th>\n",
       "      <th>Smoking</th>\n",
       "      <th>Time</th>\n",
       "      <th>Death_Event</th>\n",
       "    </tr>\n",
       "  </thead>\n",
       "  <tbody>\n",
       "    <tr>\n",
       "      <th>0</th>\n",
       "      <td>75.0</td>\n",
       "      <td>0</td>\n",
       "      <td>582</td>\n",
       "      <td>0</td>\n",
       "      <td>20</td>\n",
       "      <td>1</td>\n",
       "      <td>265000.00</td>\n",
       "      <td>1.9</td>\n",
       "      <td>130</td>\n",
       "      <td>1</td>\n",
       "      <td>0</td>\n",
       "      <td>4</td>\n",
       "      <td>1</td>\n",
       "    </tr>\n",
       "    <tr>\n",
       "      <th>1</th>\n",
       "      <td>55.0</td>\n",
       "      <td>0</td>\n",
       "      <td>7861</td>\n",
       "      <td>0</td>\n",
       "      <td>38</td>\n",
       "      <td>0</td>\n",
       "      <td>263358.03</td>\n",
       "      <td>1.1</td>\n",
       "      <td>136</td>\n",
       "      <td>1</td>\n",
       "      <td>0</td>\n",
       "      <td>6</td>\n",
       "      <td>1</td>\n",
       "    </tr>\n",
       "    <tr>\n",
       "      <th>2</th>\n",
       "      <td>65.0</td>\n",
       "      <td>0</td>\n",
       "      <td>146</td>\n",
       "      <td>0</td>\n",
       "      <td>20</td>\n",
       "      <td>0</td>\n",
       "      <td>162000.00</td>\n",
       "      <td>1.3</td>\n",
       "      <td>129</td>\n",
       "      <td>1</td>\n",
       "      <td>1</td>\n",
       "      <td>7</td>\n",
       "      <td>1</td>\n",
       "    </tr>\n",
       "    <tr>\n",
       "      <th>3</th>\n",
       "      <td>50.0</td>\n",
       "      <td>1</td>\n",
       "      <td>111</td>\n",
       "      <td>0</td>\n",
       "      <td>20</td>\n",
       "      <td>0</td>\n",
       "      <td>210000.00</td>\n",
       "      <td>1.9</td>\n",
       "      <td>137</td>\n",
       "      <td>1</td>\n",
       "      <td>0</td>\n",
       "      <td>7</td>\n",
       "      <td>1</td>\n",
       "    </tr>\n",
       "    <tr>\n",
       "      <th>4</th>\n",
       "      <td>65.0</td>\n",
       "      <td>1</td>\n",
       "      <td>160</td>\n",
       "      <td>1</td>\n",
       "      <td>20</td>\n",
       "      <td>0</td>\n",
       "      <td>327000.00</td>\n",
       "      <td>2.7</td>\n",
       "      <td>116</td>\n",
       "      <td>0</td>\n",
       "      <td>0</td>\n",
       "      <td>8</td>\n",
       "      <td>1</td>\n",
       "    </tr>\n",
       "  </tbody>\n",
       "</table>\n",
       "</div>"
      ],
      "text/plain": [
       "    Age  Anaemia  Creatinine_Phosphokinase  Diabetes  Ejection_Fraction  \\\n",
       "0  75.0        0                       582         0                 20   \n",
       "1  55.0        0                      7861         0                 38   \n",
       "2  65.0        0                       146         0                 20   \n",
       "3  50.0        1                       111         0                 20   \n",
       "4  65.0        1                       160         1                 20   \n",
       "\n",
       "   High_Blood_Pressure  Platelets  Serum_Creatinine  Serum_Sodium  Sex  \\\n",
       "0                    1  265000.00               1.9           130    1   \n",
       "1                    0  263358.03               1.1           136    1   \n",
       "2                    0  162000.00               1.3           129    1   \n",
       "3                    0  210000.00               1.9           137    1   \n",
       "4                    0  327000.00               2.7           116    0   \n",
       "\n",
       "   Smoking  Time  Death_Event  \n",
       "0        0     4            1  \n",
       "1        0     6            1  \n",
       "2        1     7            1  \n",
       "3        0     7            1  \n",
       "4        0     8            1  "
      ]
     },
     "execution_count": 5,
     "metadata": {},
     "output_type": "execute_result"
    }
   ],
   "source": [
    "df.head()"
   ]
  },
  {
   "cell_type": "markdown",
   "metadata": {},
   "source": [
    "# Dataset Description\n",
    "#age - age\n",
    "#anaemia - Decrease of red blood cells or hemoglobin (boolean)\n",
    "#creatinine_phosphokinase - Level of the CPK enzyme in the blood (mcg/L)\n",
    "#diabetes - If the patient has diabetes (boolean)\n",
    "#ejection_fraction - Percentage of blood leaving the heart at each contraction (percentage)\n",
    "#high_blood_pressure - If the patient has hypertension (boolean)\n",
    "#platelets - Platelets in the blood (kiloplatelets/mL)\n",
    "#serum_creatinine - Level of serum creatinine in the blood (mg/dL)\n",
    "#serum_sodium - Level of serum sodium in the blood (mEq/L)\n",
    "#Sex - Woman or man (binary) | Male = 1, Female = 0\n",
    "#smoking - If the patient smokes or not (boolean)\n",
    "#Time - Follow-up period (days)\n",
    "#Death_event - If the patient deceased during the follow-up period (boolean)"
   ]
  },
  {
   "cell_type": "code",
   "execution_count": 6,
   "metadata": {},
   "outputs": [
    {
     "data": {
      "text/plain": [
       "<bound method DataFrame.info of       Age  Anaemia  Creatinine_Phosphokinase  Diabetes  Ejection_Fraction  \\\n",
       "0    75.0        0                       582         0                 20   \n",
       "1    55.0        0                      7861         0                 38   \n",
       "2    65.0        0                       146         0                 20   \n",
       "3    50.0        1                       111         0                 20   \n",
       "4    65.0        1                       160         1                 20   \n",
       "..    ...      ...                       ...       ...                ...   \n",
       "294  62.0        0                        61         1                 38   \n",
       "295  55.0        0                      1820         0                 38   \n",
       "296  45.0        0                      2060         1                 60   \n",
       "297  45.0        0                      2413         0                 38   \n",
       "298  50.0        0                       196         0                 45   \n",
       "\n",
       "     High_Blood_Pressure  Platelets  Serum_Creatinine  Serum_Sodium  Sex  \\\n",
       "0                      1  265000.00               1.9           130    1   \n",
       "1                      0  263358.03               1.1           136    1   \n",
       "2                      0  162000.00               1.3           129    1   \n",
       "3                      0  210000.00               1.9           137    1   \n",
       "4                      0  327000.00               2.7           116    0   \n",
       "..                   ...        ...               ...           ...  ...   \n",
       "294                    1  155000.00               1.1           143    1   \n",
       "295                    0  270000.00               1.2           139    0   \n",
       "296                    0  742000.00               0.8           138    0   \n",
       "297                    0  140000.00               1.4           140    1   \n",
       "298                    0  395000.00               1.6           136    1   \n",
       "\n",
       "     Smoking  Time  Death_Event  \n",
       "0          0     4            1  \n",
       "1          0     6            1  \n",
       "2          1     7            1  \n",
       "3          0     7            1  \n",
       "4          0     8            1  \n",
       "..       ...   ...          ...  \n",
       "294        1   270            0  \n",
       "295        0   271            0  \n",
       "296        0   278            0  \n",
       "297        1   280            0  \n",
       "298        1   285            0  \n",
       "\n",
       "[299 rows x 13 columns]>"
      ]
     },
     "execution_count": 6,
     "metadata": {},
     "output_type": "execute_result"
    }
   ],
   "source": [
    "df.info"
   ]
  },
  {
   "cell_type": "code",
   "execution_count": 7,
   "metadata": {},
   "outputs": [
    {
     "data": {
      "text/html": [
       "<div>\n",
       "<style scoped>\n",
       "    .dataframe tbody tr th:only-of-type {\n",
       "        vertical-align: middle;\n",
       "    }\n",
       "\n",
       "    .dataframe tbody tr th {\n",
       "        vertical-align: top;\n",
       "    }\n",
       "\n",
       "    .dataframe thead th {\n",
       "        text-align: right;\n",
       "    }\n",
       "</style>\n",
       "<table border=\"1\" class=\"dataframe\">\n",
       "  <thead>\n",
       "    <tr style=\"text-align: right;\">\n",
       "      <th></th>\n",
       "      <th>Age</th>\n",
       "      <th>Anaemia</th>\n",
       "      <th>Creatinine_Phosphokinase</th>\n",
       "      <th>Diabetes</th>\n",
       "      <th>Ejection_Fraction</th>\n",
       "      <th>High_Blood_Pressure</th>\n",
       "      <th>Platelets</th>\n",
       "      <th>Serum_Creatinine</th>\n",
       "      <th>Serum_Sodium</th>\n",
       "      <th>Sex</th>\n",
       "      <th>Smoking</th>\n",
       "      <th>Time</th>\n",
       "      <th>Death_Event</th>\n",
       "    </tr>\n",
       "  </thead>\n",
       "  <tbody>\n",
       "    <tr>\n",
       "      <th>count</th>\n",
       "      <td>299.000000</td>\n",
       "      <td>299.000000</td>\n",
       "      <td>299.000000</td>\n",
       "      <td>299.000000</td>\n",
       "      <td>299.000000</td>\n",
       "      <td>299.000000</td>\n",
       "      <td>299.000000</td>\n",
       "      <td>299.00000</td>\n",
       "      <td>299.000000</td>\n",
       "      <td>299.000000</td>\n",
       "      <td>299.00000</td>\n",
       "      <td>299.000000</td>\n",
       "      <td>299.00000</td>\n",
       "    </tr>\n",
       "    <tr>\n",
       "      <th>mean</th>\n",
       "      <td>60.833893</td>\n",
       "      <td>0.431438</td>\n",
       "      <td>581.839465</td>\n",
       "      <td>0.418060</td>\n",
       "      <td>38.083612</td>\n",
       "      <td>0.351171</td>\n",
       "      <td>263358.029264</td>\n",
       "      <td>1.39388</td>\n",
       "      <td>136.625418</td>\n",
       "      <td>0.648829</td>\n",
       "      <td>0.32107</td>\n",
       "      <td>130.260870</td>\n",
       "      <td>0.32107</td>\n",
       "    </tr>\n",
       "    <tr>\n",
       "      <th>std</th>\n",
       "      <td>11.894809</td>\n",
       "      <td>0.496107</td>\n",
       "      <td>970.287881</td>\n",
       "      <td>0.494067</td>\n",
       "      <td>11.834841</td>\n",
       "      <td>0.478136</td>\n",
       "      <td>97804.236869</td>\n",
       "      <td>1.03451</td>\n",
       "      <td>4.412477</td>\n",
       "      <td>0.478136</td>\n",
       "      <td>0.46767</td>\n",
       "      <td>77.614208</td>\n",
       "      <td>0.46767</td>\n",
       "    </tr>\n",
       "    <tr>\n",
       "      <th>min</th>\n",
       "      <td>40.000000</td>\n",
       "      <td>0.000000</td>\n",
       "      <td>23.000000</td>\n",
       "      <td>0.000000</td>\n",
       "      <td>14.000000</td>\n",
       "      <td>0.000000</td>\n",
       "      <td>25100.000000</td>\n",
       "      <td>0.50000</td>\n",
       "      <td>113.000000</td>\n",
       "      <td>0.000000</td>\n",
       "      <td>0.00000</td>\n",
       "      <td>4.000000</td>\n",
       "      <td>0.00000</td>\n",
       "    </tr>\n",
       "    <tr>\n",
       "      <th>25%</th>\n",
       "      <td>51.000000</td>\n",
       "      <td>0.000000</td>\n",
       "      <td>116.500000</td>\n",
       "      <td>0.000000</td>\n",
       "      <td>30.000000</td>\n",
       "      <td>0.000000</td>\n",
       "      <td>212500.000000</td>\n",
       "      <td>0.90000</td>\n",
       "      <td>134.000000</td>\n",
       "      <td>0.000000</td>\n",
       "      <td>0.00000</td>\n",
       "      <td>73.000000</td>\n",
       "      <td>0.00000</td>\n",
       "    </tr>\n",
       "    <tr>\n",
       "      <th>50%</th>\n",
       "      <td>60.000000</td>\n",
       "      <td>0.000000</td>\n",
       "      <td>250.000000</td>\n",
       "      <td>0.000000</td>\n",
       "      <td>38.000000</td>\n",
       "      <td>0.000000</td>\n",
       "      <td>262000.000000</td>\n",
       "      <td>1.10000</td>\n",
       "      <td>137.000000</td>\n",
       "      <td>1.000000</td>\n",
       "      <td>0.00000</td>\n",
       "      <td>115.000000</td>\n",
       "      <td>0.00000</td>\n",
       "    </tr>\n",
       "    <tr>\n",
       "      <th>75%</th>\n",
       "      <td>70.000000</td>\n",
       "      <td>1.000000</td>\n",
       "      <td>582.000000</td>\n",
       "      <td>1.000000</td>\n",
       "      <td>45.000000</td>\n",
       "      <td>1.000000</td>\n",
       "      <td>303500.000000</td>\n",
       "      <td>1.40000</td>\n",
       "      <td>140.000000</td>\n",
       "      <td>1.000000</td>\n",
       "      <td>1.00000</td>\n",
       "      <td>203.000000</td>\n",
       "      <td>1.00000</td>\n",
       "    </tr>\n",
       "    <tr>\n",
       "      <th>max</th>\n",
       "      <td>95.000000</td>\n",
       "      <td>1.000000</td>\n",
       "      <td>7861.000000</td>\n",
       "      <td>1.000000</td>\n",
       "      <td>80.000000</td>\n",
       "      <td>1.000000</td>\n",
       "      <td>850000.000000</td>\n",
       "      <td>9.40000</td>\n",
       "      <td>148.000000</td>\n",
       "      <td>1.000000</td>\n",
       "      <td>1.00000</td>\n",
       "      <td>285.000000</td>\n",
       "      <td>1.00000</td>\n",
       "    </tr>\n",
       "  </tbody>\n",
       "</table>\n",
       "</div>"
      ],
      "text/plain": [
       "              Age     Anaemia  Creatinine_Phosphokinase    Diabetes  \\\n",
       "count  299.000000  299.000000                299.000000  299.000000   \n",
       "mean    60.833893    0.431438                581.839465    0.418060   \n",
       "std     11.894809    0.496107                970.287881    0.494067   \n",
       "min     40.000000    0.000000                 23.000000    0.000000   \n",
       "25%     51.000000    0.000000                116.500000    0.000000   \n",
       "50%     60.000000    0.000000                250.000000    0.000000   \n",
       "75%     70.000000    1.000000                582.000000    1.000000   \n",
       "max     95.000000    1.000000               7861.000000    1.000000   \n",
       "\n",
       "       Ejection_Fraction  High_Blood_Pressure      Platelets  \\\n",
       "count         299.000000           299.000000     299.000000   \n",
       "mean           38.083612             0.351171  263358.029264   \n",
       "std            11.834841             0.478136   97804.236869   \n",
       "min            14.000000             0.000000   25100.000000   \n",
       "25%            30.000000             0.000000  212500.000000   \n",
       "50%            38.000000             0.000000  262000.000000   \n",
       "75%            45.000000             1.000000  303500.000000   \n",
       "max            80.000000             1.000000  850000.000000   \n",
       "\n",
       "       Serum_Creatinine  Serum_Sodium         Sex    Smoking        Time  \\\n",
       "count         299.00000    299.000000  299.000000  299.00000  299.000000   \n",
       "mean            1.39388    136.625418    0.648829    0.32107  130.260870   \n",
       "std             1.03451      4.412477    0.478136    0.46767   77.614208   \n",
       "min             0.50000    113.000000    0.000000    0.00000    4.000000   \n",
       "25%             0.90000    134.000000    0.000000    0.00000   73.000000   \n",
       "50%             1.10000    137.000000    1.000000    0.00000  115.000000   \n",
       "75%             1.40000    140.000000    1.000000    1.00000  203.000000   \n",
       "max             9.40000    148.000000    1.000000    1.00000  285.000000   \n",
       "\n",
       "       Death_Event  \n",
       "count    299.00000  \n",
       "mean       0.32107  \n",
       "std        0.46767  \n",
       "min        0.00000  \n",
       "25%        0.00000  \n",
       "50%        0.00000  \n",
       "75%        1.00000  \n",
       "max        1.00000  "
      ]
     },
     "execution_count": 7,
     "metadata": {},
     "output_type": "execute_result"
    }
   ],
   "source": [
    "df.describe()"
   ]
  },
  {
   "cell_type": "markdown",
   "metadata": {},
   "source": [
    "# Visualizing null values"
   ]
  },
  {
   "cell_type": "code",
   "execution_count": 8,
   "metadata": {},
   "outputs": [
    {
     "data": {
      "text/plain": [
       "<matplotlib.axes._subplots.AxesSubplot at 0x2c4fdf085c8>"
      ]
     },
     "execution_count": 8,
     "metadata": {},
     "output_type": "execute_result"
    },
    {
     "data": {
      "image/png": "[encoded data removed]",
      "text/plain": [
       "<Figure size 864x576 with 2 Axes>"
      ]
     },
     "metadata": {
      "needs_background": "light"
     },
     "output_type": "display_data"
    }
   ],
   "source": [
    "fig, ax = plt.subplots(figsize=(12,8))\n",
    "sns.heatmap(df.isnull())"
   ]
  },
  {
   "cell_type": "markdown",
   "metadata": {},
   "source": [
    "We see that we dont have notable null values"
   ]
  },
  {
   "cell_type": "markdown",
   "metadata": {},
   "source": [
    "# Visualizing the Data"
   ]
  },
  {
   "cell_type": "code",
   "execution_count": 9,
   "metadata": {},
   "outputs": [
    {
     "data": {
      "text/plain": [
       "<matplotlib.axes._subplots.AxesSubplot at 0x2c4802ed888>"
      ]
     },
     "execution_count": 9,
     "metadata": {},
     "output_type": "execute_result"
    },
    {
     "data": {
      "image/png": "[encoded data removed]",
      "text/plain": [
       "<Figure size 720x432 with 1 Axes>"
      ]
     },
     "metadata": {
      "needs_background": "light"
     },
     "output_type": "display_data"
    }
   ],
   "source": [
    "fig, ax = plt.subplots(figsize=(10,6))\n",
    "sns.boxplot(data=df, x=\"Death_Event\", y=\"Age\")"
   ]
  },
  {
   "cell_type": "code",
   "execution_count": 10,
   "metadata": {},
   "outputs": [
    {
     "data": {
      "text/plain": [
       "<matplotlib.axes._subplots.AxesSubplot at 0x2c4800f2248>"
      ]
     },
     "execution_count": 10,
     "metadata": {},
     "output_type": "execute_result"
    },
    {
     "data": {
      "image/png": "[encoded data removed]",
      "text/plain": [
       "<Figure size 720x432 with 1 Axes>"
      ]
     },
     "metadata": {
      "needs_background": "light"
     },
     "output_type": "display_data"
    }
   ],
   "source": [
    "fig, ax = plt.subplots(figsize=(10,6))\n",
    "sns.boxplot(data=df, x=\"Death_Event\", y=\"Creatinine_Phosphokinase\")"
   ]
  },
  {
   "cell_type": "code",
   "execution_count": 11,
   "metadata": {},
   "outputs": [
    {
     "data": {
      "text/plain": [
       "<matplotlib.axes._subplots.AxesSubplot at 0x2c48012a508>"
      ]
     },
     "execution_count": 11,
     "metadata": {},
     "output_type": "execute_result"
    },
    {
     "data": {
      "image/png": "[encoded data removed]",
      "text/plain": [
       "<Figure size 720x432 with 1 Axes>"
      ]
     },
     "metadata": {
      "needs_background": "light"
     },
     "output_type": "display_data"
    }
   ],
   "source": [
    "fig, ax = plt.subplots(figsize=(10,6))\n",
    "sns.boxplot(data=df, x=\"Death_Event\", y=\"Diabetes\")"
   ]
  },
  {
   "cell_type": "code",
   "execution_count": 12,
   "metadata": {},
   "outputs": [
    {
     "data": {
      "text/plain": [
       "<matplotlib.axes._subplots.AxesSubplot at 0x2c4801b5708>"
      ]
     },
     "execution_count": 12,
     "metadata": {},
     "output_type": "execute_result"
    },
    {
     "data": {
      "image/png": "[encoded data removed]",
      "text/plain": [
       "<Figure size 720x432 with 1 Axes>"
      ]
     },
     "metadata": {
      "needs_background": "light"
     },
     "output_type": "display_data"
    }
   ],
   "source": [
    "fig, ax = plt.subplots(figsize=(10,6))\n",
    "sns.boxplot(data=df, x=\"Death_Event\", y=\"Ejection_Fraction\")"
   ]
  },
  {
   "cell_type": "code",
   "execution_count": 13,
   "metadata": {},
   "outputs": [
    {
     "data": {
      "text/plain": [
       "<matplotlib.axes._subplots.AxesSubplot at 0x2c4805f69c8>"
      ]
     },
     "execution_count": 13,
     "metadata": {},
     "output_type": "execute_result"
    },
    {
     "data": {
      "image/png": "[encoded data removed]",
      "text/plain": [
       "<Figure size 720x432 with 1 Axes>"
      ]
     },
     "metadata": {
      "needs_background": "light"
     },
     "output_type": "display_data"
    }
   ],
   "source": [
    "fig, ax = plt.subplots(figsize=(10,6))\n",
    "sns.boxplot(data=df, x=\"Death_Event\", y=\"Serum_Creatinine\")"
   ]
  },
  {
   "cell_type": "code",
   "execution_count": 14,
   "metadata": {},
   "outputs": [
    {
     "data": {
      "text/plain": [
       "<matplotlib.axes._subplots.AxesSubplot at 0x2c4804bea88>"
      ]
     },
     "execution_count": 14,
     "metadata": {},
     "output_type": "execute_result"
    },
    {
     "data": {
      "image/png": "[encoded data removed]",
      "text/plain": [
       "<Figure size 720x432 with 1 Axes>"
      ]
     },
     "metadata": {
      "needs_background": "light"
     },
     "output_type": "display_data"
    }
   ],
   "source": [
    "fig, ax = plt.subplots(figsize=(10,6))\n",
    "sns.boxplot(data=df, x=\"Death_Event\", y=\"Serum_Sodium\")"
   ]
  },
  {
   "cell_type": "code",
   "execution_count": 15,
   "metadata": {},
   "outputs": [
    {
     "data": {
      "text/plain": [
       "<matplotlib.axes._subplots.AxesSubplot at 0x2c4804c3e48>"
      ]
     },
     "execution_count": 15,
     "metadata": {},
     "output_type": "execute_result"
    },
    {
     "data": {
      "image/png": "[encoded data removed]",
      "text/plain": [
       "<Figure size 720x432 with 1 Axes>"
      ]
     },
     "metadata": {
      "needs_background": "light"
     },
     "output_type": "display_data"
    }
   ],
   "source": [
    "fig, ax = plt.subplots(figsize=(10,6))\n",
    "sns.boxplot(data=df, x=\"Death_Event\", y=\"Platelets\")"
   ]
  },
  {
   "cell_type": "code",
   "execution_count": 16,
   "metadata": {},
   "outputs": [
    {
     "data": {
      "text/plain": [
       "<matplotlib.axes._subplots.AxesSubplot at 0x2c4804fd6c8>"
      ]
     },
     "execution_count": 16,
     "metadata": {},
     "output_type": "execute_result"
    },
    {
     "data": {
      "image/png": "[encoded data removed]",
      "text/plain": [
       "<Figure size 720x432 with 1 Axes>"
      ]
     },
     "metadata": {
      "needs_background": "light"
     },
     "output_type": "display_data"
    }
   ],
   "source": [
    "fig, ax = plt.subplots(figsize=(10,6))\n",
    "sns.boxplot(data=df, x=\"Death_Event\", y=\"Time\")"
   ]
  },
  {
   "cell_type": "code",
   "execution_count": 17,
   "metadata": {},
   "outputs": [
    {
     "data": {
      "text/plain": [
       "<matplotlib.axes._subplots.AxesSubplot at 0x2c4807b0d48>"
      ]
     },
     "execution_count": 17,
     "metadata": {},
     "output_type": "execute_result"
    },
    {
     "data": {
      "image/png": "[encoded data removed]",
      "text/plain": [
       "<Figure size 720x432 with 1 Axes>"
      ]
     },
     "metadata": {
      "needs_background": "light"
     },
     "output_type": "display_data"
    }
   ],
   "source": [
    "fig, ax = plt.subplots(figsize=(10,6))\n",
    "sns.boxplot(data=df, x=\"Death_Event\", y=\"High_Blood_Pressure\")"
   ]
  },
  {
   "cell_type": "code",
   "execution_count": 18,
   "metadata": {},
   "outputs": [
    {
     "data": {
      "text/plain": [
       "<matplotlib.axes._subplots.AxesSubplot at 0x2c4806b1f48>"
      ]
     },
     "execution_count": 18,
     "metadata": {},
     "output_type": "execute_result"
    },
    {
     "data": {
      "image/png": "[encoded data removed]",
      "text/plain": [
       "<Figure size 720x432 with 1 Axes>"
      ]
     },
     "metadata": {
      "needs_background": "light"
     },
     "output_type": "display_data"
    }
   ],
   "source": [
    "fig, ax = plt.subplots(figsize=(10,6))\n",
    "sns.boxplot(data=df, x=\"Death_Event\", y=\"Smoking\")"
   ]
  },
  {
   "cell_type": "code",
   "execution_count": 19,
   "metadata": {},
   "outputs": [
    {
     "data": {
      "image/png": "[encoded data removed]",
      "text/plain": [
       "<Figure size 864x432 with 2 Axes>"
      ]
     },
     "metadata": {
      "needs_background": "light"
     },
     "output_type": "display_data"
    }
   ],
   "source": [
    "fig, ax = plt.subplots(figsize=(12,6))\n",
    "ax = sns.heatmap(df.corr(), cmap='icefire',annot=True);"
   ]
  },
  {
   "cell_type": "code",
   "execution_count": 20,
   "metadata": {},
   "outputs": [
    {
     "data": {
      "text/plain": [
       "Age                  0.253729\n",
       "Ejection_Fraction    0.268603\n",
       "Serum_Creatinine     0.294278\n",
       "Time                 0.526964\n",
       "Death_Event          1.000000\n",
       "Name: Death_Event, dtype: float64"
      ]
     },
     "execution_count": 20,
     "metadata": {},
     "output_type": "execute_result"
    }
   ],
   "source": [
    "cor = df.corr()\n",
    "cor_target = abs(cor[\"Death_Event\"])\n",
    "relevant_features = cor_target[cor_target>0.2]\n",
    "relevant_features"
   ]
  },
  {
   "cell_type": "code",
   "execution_count": 21,
   "metadata": {},
   "outputs": [
    {
     "name": "stdout",
     "output_type": "stream",
     "text": [
      "                        Age  Ejection_Fraction  Serum_Creatinine      Time\n",
      "Age                1.000000           0.060098          0.159187 -0.224068\n",
      "Ejection_Fraction  0.060098           1.000000         -0.011302  0.041729\n",
      "Serum_Creatinine   0.159187          -0.011302          1.000000 -0.149315\n",
      "Time              -0.224068           0.041729         -0.149315  1.000000\n"
     ]
    }
   ],
   "source": [
    "print(df[['Age','Ejection_Fraction','Serum_Creatinine','Time']].corr())"
   ]
  },
  {
   "cell_type": "code",
   "execution_count": 22,
   "metadata": {},
   "outputs": [],
   "source": [
    "df_data=df[['Age','Ejection_Fraction','Serum_Creatinine','Time']]"
   ]
  },
  {
   "cell_type": "markdown",
   "metadata": {},
   "source": [
    "# Normalizing the Data"
   ]
  },
  {
   "cell_type": "code",
   "execution_count": 27,
   "metadata": {},
   "outputs": [
    {
     "data": {
      "text/html": [
       "<div>\n",
       "<style scoped>\n",
       "    .dataframe tbody tr th:only-of-type {\n",
       "        vertical-align: middle;\n",
       "    }\n",
       "\n",
       "    .dataframe tbody tr th {\n",
       "        vertical-align: top;\n",
       "    }\n",
       "\n",
       "    .dataframe thead th {\n",
       "        text-align: right;\n",
       "    }\n",
       "</style>\n",
       "<table border=\"1\" class=\"dataframe\">\n",
       "  <thead>\n",
       "    <tr style=\"text-align: right;\">\n",
       "      <th></th>\n",
       "      <th>Age</th>\n",
       "      <th>Ejection_Fraction</th>\n",
       "      <th>Serum_Creatinine</th>\n",
       "      <th>Time</th>\n",
       "      <th>Death_Event</th>\n",
       "    </tr>\n",
       "  </thead>\n",
       "  <tbody>\n",
       "    <tr>\n",
       "      <th>0</th>\n",
       "      <td>1.192945</td>\n",
       "      <td>-1.530560</td>\n",
       "      <td>0.490057</td>\n",
       "      <td>-1.629502</td>\n",
       "      <td>1</td>\n",
       "    </tr>\n",
       "    <tr>\n",
       "      <th>1</th>\n",
       "      <td>-0.491279</td>\n",
       "      <td>-0.007077</td>\n",
       "      <td>-0.284552</td>\n",
       "      <td>-1.603691</td>\n",
       "      <td>1</td>\n",
       "    </tr>\n",
       "    <tr>\n",
       "      <th>2</th>\n",
       "      <td>0.350833</td>\n",
       "      <td>-1.530560</td>\n",
       "      <td>-0.090900</td>\n",
       "      <td>-1.590785</td>\n",
       "      <td>1</td>\n",
       "    </tr>\n",
       "    <tr>\n",
       "      <th>3</th>\n",
       "      <td>-0.912335</td>\n",
       "      <td>-1.530560</td>\n",
       "      <td>0.490057</td>\n",
       "      <td>-1.590785</td>\n",
       "      <td>1</td>\n",
       "    </tr>\n",
       "    <tr>\n",
       "      <th>4</th>\n",
       "      <td>0.350833</td>\n",
       "      <td>-1.530560</td>\n",
       "      <td>1.264666</td>\n",
       "      <td>-1.577879</td>\n",
       "      <td>1</td>\n",
       "    </tr>\n",
       "    <tr>\n",
       "      <th>...</th>\n",
       "      <td>...</td>\n",
       "      <td>...</td>\n",
       "      <td>...</td>\n",
       "      <td>...</td>\n",
       "      <td>...</td>\n",
       "    </tr>\n",
       "    <tr>\n",
       "      <th>294</th>\n",
       "      <td>0.098199</td>\n",
       "      <td>-0.007077</td>\n",
       "      <td>-0.284552</td>\n",
       "      <td>1.803451</td>\n",
       "      <td>0</td>\n",
       "    </tr>\n",
       "    <tr>\n",
       "      <th>295</th>\n",
       "      <td>-0.491279</td>\n",
       "      <td>-0.007077</td>\n",
       "      <td>-0.187726</td>\n",
       "      <td>1.816357</td>\n",
       "      <td>0</td>\n",
       "    </tr>\n",
       "    <tr>\n",
       "      <th>296</th>\n",
       "      <td>-1.333392</td>\n",
       "      <td>1.854958</td>\n",
       "      <td>-0.575031</td>\n",
       "      <td>1.906697</td>\n",
       "      <td>0</td>\n",
       "    </tr>\n",
       "    <tr>\n",
       "      <th>297</th>\n",
       "      <td>-1.333392</td>\n",
       "      <td>-0.007077</td>\n",
       "      <td>0.005926</td>\n",
       "      <td>1.932509</td>\n",
       "      <td>0</td>\n",
       "    </tr>\n",
       "    <tr>\n",
       "      <th>298</th>\n",
       "      <td>-0.912335</td>\n",
       "      <td>0.585389</td>\n",
       "      <td>0.199578</td>\n",
       "      <td>1.997038</td>\n",
       "      <td>0</td>\n",
       "    </tr>\n",
       "  </tbody>\n",
       "</table>\n",
       "<p>299 rows × 5 columns</p>\n",
       "</div>"
      ],
      "text/plain": [
       "          Age  Ejection_Fraction  Serum_Creatinine      Time  Death_Event\n",
       "0    1.192945          -1.530560          0.490057 -1.629502            1\n",
       "1   -0.491279          -0.007077         -0.284552 -1.603691            1\n",
       "2    0.350833          -1.530560         -0.090900 -1.590785            1\n",
       "3   -0.912335          -1.530560          0.490057 -1.590785            1\n",
       "4    0.350833          -1.530560          1.264666 -1.577879            1\n",
       "..        ...                ...               ...       ...          ...\n",
       "294  0.098199          -0.007077         -0.284552  1.803451            0\n",
       "295 -0.491279          -0.007077         -0.187726  1.816357            0\n",
       "296 -1.333392           1.854958         -0.575031  1.906697            0\n",
       "297 -1.333392          -0.007077          0.005926  1.932509            0\n",
       "298 -0.912335           0.585389          0.199578  1.997038            0\n",
       "\n",
       "[299 rows x 5 columns]"
      ]
     },
     "execution_count": 27,
     "metadata": {},
     "output_type": "execute_result"
    }
   ],
   "source": [
    "df_target = df['Death_Event']\n",
    "from sklearn.preprocessing import StandardScaler\n",
    "x = StandardScaler().fit_transform(df_data)\n",
    "dfScaled = pd.DataFrame(data=x, columns=df_data.columns)\n",
    "dfScaled['Death_Event'] = df_target\n",
    "dfScaled"
   ]
  },
  {
   "cell_type": "markdown",
   "metadata": {},
   "source": [
    "# Spliting the Test and Training Data"
   ]
  },
  {
   "cell_type": "code",
   "execution_count": 28,
   "metadata": {},
   "outputs": [],
   "source": [
    "#importing libraries\n",
    "from sklearn.linear_model import LogisticRegression\n",
    "from sklearn.metrics import accuracy_score\n",
    "from sklearn.model_selection import train_test_split\n",
    "from sklearn.metrics import classification_report\n",
    "from sklearn.metrics import confusion_matrix\n",
    "lr = LogisticRegression()"
   ]
  },
  {
   "cell_type": "code",
   "execution_count": 29,
   "metadata": {},
   "outputs": [],
   "source": [
    "X = dfScaled.drop(columns=['Death_Event'])\n",
    "y = dfScaled['Death_Event']"
   ]
  },
  {
   "cell_type": "code",
   "execution_count": 30,
   "metadata": {},
   "outputs": [],
   "source": [
    "#splitting the data into train test split\n",
    "x_train, x_test, y_train, y_test = train_test_split(X,y,test_size=0.25)"
   ]
  },
  {
   "cell_type": "code",
   "execution_count": 31,
   "metadata": {},
   "outputs": [
    {
     "data": {
      "text/plain": [
       "Age                  224\n",
       "Ejection_Fraction    224\n",
       "Serum_Creatinine     224\n",
       "Time                 224\n",
       "dtype: int64"
      ]
     },
     "execution_count": 31,
     "metadata": {},
     "output_type": "execute_result"
    }
   ],
   "source": [
    "x_train.count()"
   ]
  },
  {
   "cell_type": "code",
   "execution_count": 32,
   "metadata": {},
   "outputs": [
    {
     "data": {
      "text/plain": [
       "Age                  75\n",
       "Ejection_Fraction    75\n",
       "Serum_Creatinine     75\n",
       "Time                 75\n",
       "dtype: int64"
      ]
     },
     "execution_count": 32,
     "metadata": {},
     "output_type": "execute_result"
    }
   ],
   "source": [
    "x_test.count()"
   ]
  },
  {
   "cell_type": "markdown",
   "metadata": {},
   "source": [
    "# Machine Learning Models"
   ]
  },
  {
   "cell_type": "markdown",
   "metadata": {},
   "source": [
    "# Logistic Regression"
   ]
  },
  {
   "cell_type": "code",
   "execution_count": 33,
   "metadata": {},
   "outputs": [],
   "source": [
    "#applying log_reg\n",
    "from sklearn.linear_model import LogisticRegression\n",
    "lr = LogisticRegression()\n",
    "lr.fit(x_train,y_train)\n",
    "predictions = lr.predict(x_test) "
   ]
  },
  {
   "cell_type": "code",
   "execution_count": 34,
   "metadata": {},
   "outputs": [
    {
     "name": "stdout",
     "output_type": "stream",
     "text": [
      "Confusion Matrix : \n",
      "\n",
      " [[45  2]\n",
      " [ 9 19]] \n",
      "\n",
      "Classification Report : \n",
      "\n",
      "               precision    recall  f1-score   support\n",
      "\n",
      "           0       0.83      0.96      0.89        47\n",
      "           1       0.90      0.68      0.78        28\n",
      "\n",
      "    accuracy                           0.85        75\n",
      "   macro avg       0.87      0.82      0.83        75\n",
      "weighted avg       0.86      0.85      0.85        75\n",
      " \n",
      "\n"
     ]
    }
   ],
   "source": [
    "print(\"Confusion Matrix : \\n\\n\" , confusion_matrix(predictions,y_test), \"\\n\")\n",
    "\n",
    "print(\"Classification Report : \\n\\n\" , classification_report(predictions,y_test),\"\\n\")"
   ]
  },
  {
   "cell_type": "code",
   "execution_count": 35,
   "metadata": {},
   "outputs": [
    {
     "name": "stdout",
     "output_type": "stream",
     "text": [
      "Actual class:  0  , predicted class : 0\n",
      "Actual class:  0  , predicted class : 0\n",
      "Actual class:  0  , predicted class : 0\n",
      "Actual class:  1  , predicted class : 1\n",
      "Actual class:  0  , predicted class : 0\n",
      "Actual class:  0  , predicted class : 1\n",
      "Actual class:  0  , predicted class : 0\n",
      "Actual class:  0  , predicted class : 0\n",
      "Actual class:  1  , predicted class : 0\n",
      "Actual class:  0  , predicted class : 0\n",
      "Actual class:  0  , predicted class : 1\n",
      "Actual class:  0  , predicted class : 0\n",
      "Actual class:  1  , predicted class : 1\n",
      "Actual class:  0  , predicted class : 0\n",
      "Actual class:  1  , predicted class : 1\n",
      "Actual class:  1  , predicted class : 1\n",
      "Actual class:  0  , predicted class : 0\n",
      "Actual class:  1  , predicted class : 1\n",
      "Actual class:  1  , predicted class : 1\n",
      "Actual class:  1  , predicted class : 1\n",
      "Actual class:  0  , predicted class : 0\n",
      "Actual class:  0  , predicted class : 0\n",
      "Actual class:  0  , predicted class : 0\n",
      "Actual class:  0  , predicted class : 0\n",
      "Actual class:  0  , predicted class : 1\n",
      "Actual class:  0  , predicted class : 0\n",
      "Actual class:  1  , predicted class : 1\n",
      "Actual class:  0  , predicted class : 1\n",
      "Actual class:  1  , predicted class : 1\n",
      "Actual class:  0  , predicted class : 1\n",
      "Actual class:  0  , predicted class : 1\n",
      "Actual class:  0  , predicted class : 0\n",
      "Actual class:  0  , predicted class : 0\n",
      "Actual class:  0  , predicted class : 1\n",
      "Actual class:  0  , predicted class : 0\n",
      "Actual class:  0  , predicted class : 1\n",
      "Actual class:  0  , predicted class : 0\n",
      "Actual class:  1  , predicted class : 1\n",
      "Actual class:  0  , predicted class : 0\n",
      "Actual class:  0  , predicted class : 0\n",
      "Actual class:  0  , predicted class : 1\n",
      "Actual class:  1  , predicted class : 1\n",
      "Actual class:  0  , predicted class : 0\n",
      "Actual class:  0  , predicted class : 0\n",
      "Actual class:  0  , predicted class : 0\n",
      "Actual class:  0  , predicted class : 0\n",
      "Actual class:  0  , predicted class : 0\n",
      "Actual class:  1  , predicted class : 1\n",
      "Actual class:  0  , predicted class : 0\n",
      "Actual class:  0  , predicted class : 0\n",
      "Actual class:  0  , predicted class : 0\n",
      "Actual class:  1  , predicted class : 1\n",
      "Actual class:  1  , predicted class : 1\n",
      "Actual class:  1  , predicted class : 0\n",
      "Actual class:  0  , predicted class : 0\n",
      "Actual class:  0  , predicted class : 0\n",
      "Actual class:  1  , predicted class : 1\n",
      "Actual class:  0  , predicted class : 0\n",
      "Actual class:  0  , predicted class : 0\n",
      "Actual class:  0  , predicted class : 0\n",
      "Actual class:  0  , predicted class : 0\n",
      "Actual class:  0  , predicted class : 0\n",
      "Actual class:  1  , predicted class : 1\n",
      "Actual class:  1  , predicted class : 1\n",
      "Actual class:  0  , predicted class : 0\n",
      "Actual class:  0  , predicted class : 0\n",
      "Actual class:  0  , predicted class : 0\n",
      "Actual class:  1  , predicted class : 1\n",
      "Actual class:  0  , predicted class : 0\n",
      "Actual class:  1  , predicted class : 1\n",
      "Actual class:  0  , predicted class : 0\n",
      "Actual class:  0  , predicted class : 0\n",
      "Actual class:  0  , predicted class : 0\n",
      "Actual class:  0  , predicted class : 0\n",
      "Actual class:  0  , predicted class : 0\n"
     ]
    }
   ],
   "source": [
    "#prediting the results\n",
    "for i in range(len(y_test)):\n",
    "    print(\"Actual class: \",y_test.values[i],\" , predicted class :\",predictions[i])"
   ]
  },
  {
   "cell_type": "markdown",
   "metadata": {},
   "source": [
    "# Decision Trees Classifier"
   ]
  },
  {
   "cell_type": "code",
   "execution_count": 36,
   "metadata": {},
   "outputs": [],
   "source": [
    "#applying dtc\n",
    "from sklearn.tree import DecisionTreeClassifier\n",
    "Dtree = DecisionTreeClassifier()\n",
    "Dtree.fit(x_train,y_train)\n",
    "pred = Dtree.predict(x_test)"
   ]
  },
  {
   "cell_type": "code",
   "execution_count": 37,
   "metadata": {},
   "outputs": [
    {
     "name": "stdout",
     "output_type": "stream",
     "text": [
      "Confusion Matrix : \n",
      "\n",
      " [[45  3]\n",
      " [ 9 18]] \n",
      "\n",
      "Classification Report : \n",
      "\n",
      "               precision    recall  f1-score   support\n",
      "\n",
      "           0       0.83      0.94      0.88        48\n",
      "           1       0.86      0.67      0.75        27\n",
      "\n",
      "    accuracy                           0.84        75\n",
      "   macro avg       0.85      0.80      0.82        75\n",
      "weighted avg       0.84      0.84      0.83        75\n",
      " \n",
      "\n"
     ]
    }
   ],
   "source": [
    "print(\"Confusion Matrix : \\n\\n\" , confusion_matrix(pred,y_test), \"\\n\")\n",
    "\n",
    "print(\"Classification Report : \\n\\n\" , classification_report(pred,y_test),\"\\n\")"
   ]
  },
  {
   "cell_type": "code",
   "execution_count": 42,
   "metadata": {},
   "outputs": [
    {
     "name": "stdout",
     "output_type": "stream",
     "text": [
      "Actual class:  0  , predicted class : 0\n",
      "Actual class:  0  , predicted class : 0\n",
      "Actual class:  0  , predicted class : 0\n",
      "Actual class:  1  , predicted class : 1\n",
      "Actual class:  0  , predicted class : 0\n",
      "Actual class:  0  , predicted class : 0\n",
      "Actual class:  0  , predicted class : 0\n",
      "Actual class:  0  , predicted class : 0\n",
      "Actual class:  1  , predicted class : 0\n",
      "Actual class:  0  , predicted class : 0\n",
      "Actual class:  0  , predicted class : 1\n",
      "Actual class:  0  , predicted class : 0\n",
      "Actual class:  1  , predicted class : 1\n",
      "Actual class:  0  , predicted class : 0\n",
      "Actual class:  1  , predicted class : 1\n",
      "Actual class:  1  , predicted class : 1\n",
      "Actual class:  0  , predicted class : 0\n",
      "Actual class:  1  , predicted class : 0\n",
      "Actual class:  1  , predicted class : 1\n",
      "Actual class:  1  , predicted class : 1\n",
      "Actual class:  0  , predicted class : 0\n",
      "Actual class:  0  , predicted class : 0\n",
      "Actual class:  0  , predicted class : 0\n",
      "Actual class:  0  , predicted class : 0\n",
      "Actual class:  0  , predicted class : 1\n",
      "Actual class:  0  , predicted class : 0\n",
      "Actual class:  1  , predicted class : 1\n",
      "Actual class:  0  , predicted class : 1\n",
      "Actual class:  1  , predicted class : 1\n",
      "Actual class:  0  , predicted class : 1\n",
      "Actual class:  0  , predicted class : 1\n",
      "Actual class:  0  , predicted class : 0\n",
      "Actual class:  0  , predicted class : 0\n",
      "Actual class:  0  , predicted class : 1\n",
      "Actual class:  0  , predicted class : 0\n",
      "Actual class:  0  , predicted class : 1\n",
      "Actual class:  0  , predicted class : 0\n",
      "Actual class:  1  , predicted class : 1\n",
      "Actual class:  0  , predicted class : 1\n",
      "Actual class:  0  , predicted class : 0\n",
      "Actual class:  0  , predicted class : 1\n",
      "Actual class:  1  , predicted class : 1\n",
      "Actual class:  0  , predicted class : 0\n",
      "Actual class:  0  , predicted class : 0\n",
      "Actual class:  0  , predicted class : 0\n",
      "Actual class:  0  , predicted class : 0\n",
      "Actual class:  0  , predicted class : 0\n",
      "Actual class:  1  , predicted class : 1\n",
      "Actual class:  0  , predicted class : 0\n",
      "Actual class:  0  , predicted class : 0\n",
      "Actual class:  0  , predicted class : 0\n",
      "Actual class:  1  , predicted class : 1\n",
      "Actual class:  1  , predicted class : 1\n",
      "Actual class:  1  , predicted class : 1\n",
      "Actual class:  0  , predicted class : 0\n",
      "Actual class:  0  , predicted class : 0\n",
      "Actual class:  1  , predicted class : 1\n",
      "Actual class:  0  , predicted class : 0\n",
      "Actual class:  0  , predicted class : 0\n",
      "Actual class:  0  , predicted class : 1\n",
      "Actual class:  0  , predicted class : 0\n",
      "Actual class:  0  , predicted class : 0\n",
      "Actual class:  1  , predicted class : 1\n",
      "Actual class:  1  , predicted class : 1\n",
      "Actual class:  0  , predicted class : 0\n",
      "Actual class:  0  , predicted class : 0\n",
      "Actual class:  0  , predicted class : 0\n",
      "Actual class:  1  , predicted class : 1\n",
      "Actual class:  0  , predicted class : 0\n",
      "Actual class:  1  , predicted class : 1\n",
      "Actual class:  0  , predicted class : 0\n",
      "Actual class:  0  , predicted class : 0\n",
      "Actual class:  0  , predicted class : 0\n",
      "Actual class:  0  , predicted class : 0\n",
      "Actual class:  0  , predicted class : 1\n"
     ]
    }
   ],
   "source": [
    "#prediting the results\n",
    "for i in range(len(y_test)):\n",
    "    print(\"Actual class: \",y_test.values[i],\" , predicted class :\",pred[i])"
   ]
  },
  {
   "cell_type": "markdown",
   "metadata": {},
   "source": [
    "# Random Forests Classifier"
   ]
  },
  {
   "cell_type": "code",
   "execution_count": 39,
   "metadata": {},
   "outputs": [],
   "source": [
    "#applying rfc\n",
    "from sklearn.ensemble import RandomForestClassifier\n",
    "rfc = RandomForestClassifier()\n",
    "rfc.fit(x_train,y_train)\n",
    "pred = rfc.predict(x_test)"
   ]
  },
  {
   "cell_type": "code",
   "execution_count": 40,
   "metadata": {},
   "outputs": [
    {
     "name": "stdout",
     "output_type": "stream",
     "text": [
      "Confusion Matrix : \n",
      "\n",
      " [[43  2]\n",
      " [11 19]] \n",
      "\n",
      "Classification Report : \n",
      "\n",
      "               precision    recall  f1-score   support\n",
      "\n",
      "           0       0.80      0.96      0.87        45\n",
      "           1       0.90      0.63      0.75        30\n",
      "\n",
      "    accuracy                           0.83        75\n",
      "   macro avg       0.85      0.79      0.81        75\n",
      "weighted avg       0.84      0.83      0.82        75\n",
      " \n",
      "\n"
     ]
    }
   ],
   "source": [
    "print(\"Confusion Matrix : \\n\\n\" , confusion_matrix(pred,y_test), \"\\n\")\n",
    "\n",
    "print(\"Classification Report : \\n\\n\" , classification_report(pred,y_test),\"\\n\")"
   ]
  },
  {
   "cell_type": "code",
   "execution_count": 43,
   "metadata": {},
   "outputs": [
    {
     "name": "stdout",
     "output_type": "stream",
     "text": [
      "Actual class:  0  , predicted class : 0\n",
      "Actual class:  0  , predicted class : 0\n",
      "Actual class:  0  , predicted class : 0\n",
      "Actual class:  1  , predicted class : 1\n",
      "Actual class:  0  , predicted class : 0\n",
      "Actual class:  0  , predicted class : 0\n",
      "Actual class:  0  , predicted class : 0\n",
      "Actual class:  0  , predicted class : 0\n",
      "Actual class:  1  , predicted class : 0\n",
      "Actual class:  0  , predicted class : 0\n",
      "Actual class:  0  , predicted class : 1\n",
      "Actual class:  0  , predicted class : 0\n",
      "Actual class:  1  , predicted class : 1\n",
      "Actual class:  0  , predicted class : 0\n",
      "Actual class:  1  , predicted class : 1\n",
      "Actual class:  1  , predicted class : 1\n",
      "Actual class:  0  , predicted class : 0\n",
      "Actual class:  1  , predicted class : 0\n",
      "Actual class:  1  , predicted class : 1\n",
      "Actual class:  1  , predicted class : 1\n",
      "Actual class:  0  , predicted class : 0\n",
      "Actual class:  0  , predicted class : 0\n",
      "Actual class:  0  , predicted class : 0\n",
      "Actual class:  0  , predicted class : 0\n",
      "Actual class:  0  , predicted class : 1\n",
      "Actual class:  0  , predicted class : 0\n",
      "Actual class:  1  , predicted class : 1\n",
      "Actual class:  0  , predicted class : 1\n",
      "Actual class:  1  , predicted class : 1\n",
      "Actual class:  0  , predicted class : 1\n",
      "Actual class:  0  , predicted class : 1\n",
      "Actual class:  0  , predicted class : 0\n",
      "Actual class:  0  , predicted class : 0\n",
      "Actual class:  0  , predicted class : 1\n",
      "Actual class:  0  , predicted class : 0\n",
      "Actual class:  0  , predicted class : 1\n",
      "Actual class:  0  , predicted class : 0\n",
      "Actual class:  1  , predicted class : 1\n",
      "Actual class:  0  , predicted class : 1\n",
      "Actual class:  0  , predicted class : 0\n",
      "Actual class:  0  , predicted class : 1\n",
      "Actual class:  1  , predicted class : 1\n",
      "Actual class:  0  , predicted class : 0\n",
      "Actual class:  0  , predicted class : 0\n",
      "Actual class:  0  , predicted class : 0\n",
      "Actual class:  0  , predicted class : 0\n",
      "Actual class:  0  , predicted class : 0\n",
      "Actual class:  1  , predicted class : 1\n",
      "Actual class:  0  , predicted class : 0\n",
      "Actual class:  0  , predicted class : 0\n",
      "Actual class:  0  , predicted class : 0\n",
      "Actual class:  1  , predicted class : 1\n",
      "Actual class:  1  , predicted class : 1\n",
      "Actual class:  1  , predicted class : 1\n",
      "Actual class:  0  , predicted class : 0\n",
      "Actual class:  0  , predicted class : 0\n",
      "Actual class:  1  , predicted class : 1\n",
      "Actual class:  0  , predicted class : 0\n",
      "Actual class:  0  , predicted class : 0\n",
      "Actual class:  0  , predicted class : 1\n",
      "Actual class:  0  , predicted class : 0\n",
      "Actual class:  0  , predicted class : 0\n",
      "Actual class:  1  , predicted class : 1\n",
      "Actual class:  1  , predicted class : 1\n",
      "Actual class:  0  , predicted class : 0\n",
      "Actual class:  0  , predicted class : 0\n",
      "Actual class:  0  , predicted class : 0\n",
      "Actual class:  1  , predicted class : 1\n",
      "Actual class:  0  , predicted class : 0\n",
      "Actual class:  1  , predicted class : 1\n",
      "Actual class:  0  , predicted class : 0\n",
      "Actual class:  0  , predicted class : 0\n",
      "Actual class:  0  , predicted class : 0\n",
      "Actual class:  0  , predicted class : 0\n",
      "Actual class:  0  , predicted class : 1\n"
     ]
    }
   ],
   "source": [
    "#prediting the results\n",
    "for i in range(len(y_test)):\n",
    "    print(\"Actual class: \",y_test.values[i],\" , predicted class :\",pred[i])"
   ]
  },
  {
   "cell_type": "code",
   "execution_count": null,
   "metadata": {},
   "outputs": [],
   "source": []
  }
 ],
 "metadata": {
  "kernelspec": {
   "display_name": "Python 3",
   "language": "python",
   "name": "python3"
  },
  "language_info": {
   "codemirror_mode": {
    "name": "ipython",
    "version": 3
   },
   "file_extension": ".py",
   "mimetype": "text/x-python",
   "name": "python",
   "nbconvert_exporter": "python",
   "pygments_lexer": "ipython3",
   "version": "3.7.7"
  }
 },
 "nbformat": 4,
 "nbformat_minor": 4
}
